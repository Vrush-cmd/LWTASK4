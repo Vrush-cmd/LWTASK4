{
 "cells": [
  {
   "cell_type": "code",
   "execution_count": null,
   "metadata": {},
   "outputs": [],
   "source": [
    "import cv2"
   ]
  },
  {
   "cell_type": "code",
   "execution_count": null,
   "metadata": {},
   "outputs": [],
   "source": [
    "import numpy as np\n"
   ]
  },
  {
   "cell_type": "code",
   "execution_count": null,
   "metadata": {},
   "outputs": [],
   "source": [
    "#EMOJI1\n",
    "img = np.zeros((1000,1000,3),np.uint8)\n",
    "img = cv2.circle(img,(500,250),100,(150,0,150),-1) #face\n",
    "img = cv2.circle(img,(460,210),20,(255,255,255),-1) #eye1\n",
    "img = cv2.circle(img,(460,210),10,(0,0,0),-1)\n",
    "img = cv2.circle(img,(540,210),20,(255,255,255),-1) #eye2\n",
    "img = cv2.circle(img,(540,210),10,(0,0,0),-1) \n",
    "img = cv2.circle(img,(500,300),40,(0,0,0),-1) \n",
    "\n",
    "\n",
    "#EMOJI2\n",
    "\n",
    "img = cv2.circle(img,(700,350),100,(0,150,150),-1) #face\n",
    "img = cv2.circle(img,(660,310),20,(255,255,255),-1) #eye1\n",
    "img = cv2.circle(img,(660,310),10,(0,0,0),-1)\n",
    "img = cv2.circle(img,(740,310),20,(255,255,255),-1) #eye2\n",
    "img = cv2.circle(img,(740,310),10,(0,0,0),-1) \n",
    "\n",
    "#EMOJI3\n",
    "\n",
    "img = cv2.circle(img,(300,150),100,(150,0,0),-1) #face\n",
    "img = cv2.circle(img,(260,110),20,(255,255,255),-1) #eye1\n",
    "img = cv2.circle(img,(260,110),10,(0,0,0),-1)\n",
    "img = cv2.circle(img,(340,110),20,(255,255,255),-1) #eye2\n",
    "img = cv2.circle(img,(340,110),10,(0,0,0),-1) \n",
    "img = cv2.circle(img,(300,200),40,(0,0,0),-1) \n",
    "img = cv2.circle(img,(300,210),40,(155,0,0),-1)\n"
   ]
  },
  {
   "cell_type": "code",
   "execution_count": null,
   "metadata": {},
   "outputs": [],
   "source": [
    "cv2.imshow(\"TASK_4.1\" ,img)\n",
    "cv2.waitKey()\n",
    "cv2.destroyAllWindows()"
   ]
  },
  {
   "cell_type": "code",
   "execution_count": null,
   "metadata": {},
   "outputs": [],
   "source": []
  },
  {
   "cell_type": "code",
   "execution_count": null,
   "metadata": {},
   "outputs": [],
   "source": []
  },
  {
   "cell_type": "code",
   "execution_count": null,
   "metadata": {},
   "outputs": [],
   "source": []
  },
  {
   "cell_type": "code",
   "execution_count": null,
   "metadata": {},
   "outputs": [],
   "source": []
  },
  {
   "cell_type": "code",
   "execution_count": null,
   "metadata": {},
   "outputs": [],
   "source": []
  },
  {
   "cell_type": "code",
   "execution_count": null,
   "metadata": {},
   "outputs": [],
   "source": []
  }
 ],
 "metadata": {
  "kernelspec": {
   "display_name": "Python 3",
   "language": "python",
   "name": "python3"
  },
  "language_info": {
   "codemirror_mode": {
    "name": "ipython",
    "version": 3
   },
   "file_extension": ".py",
   "mimetype": "text/x-python",
   "name": "python",
   "nbconvert_exporter": "python",
   "pygments_lexer": "ipython3",
   "version": "3.7.6"
  }
 },
 "nbformat": 4,
 "nbformat_minor": 4
}
